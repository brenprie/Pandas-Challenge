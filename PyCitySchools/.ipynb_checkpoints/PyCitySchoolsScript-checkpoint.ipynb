{
 "cells": [
  {
   "attachments": {},
   "cell_type": "markdown",
   "metadata": {},
   "source": [
    "# PyCity Schools Analysis\n",
    "\n",
    "Your analysis here (from perspective of Chief Data Scientist for city's school district, to help the school board and mayor make strategic decisions regarding future school budgets and priorities):\n",
    "  \n",
    "* Across all 15 schools in the district, only 65% of students are passing both math and reading; 82% and 75% of students are passing reading only and math only, respectively.\n",
    "* At the same time, comparison of the five top-performing and five bottom-performing schools, as well as performance by expeditures per student, reveal that lower-performing schools have larger budgets and spend more per student. This evidence can help rebutt claims that a lack of resources per se may be behind the underperformance of some schools in the district -- this is not the case. Indeed, the causation has likely run in the opposite direction, with lower-performing schools being allocated more funds on a per-pupil basis in an effort to offset other factors driving the education performance imbalance. Toward identifying root causes, and in turn potentially fruitful solutions, factors worth exploring as possibly contributing to the performance differential include school condition, teacher quality, student-to-teacher ratios, and dynamics in the home and broader community.\n",
    "* In support of school size having some explantory power, one finds for both reading and math little performance difference between small and medium-sized schools but a substantial difference between medium and large schools. Additional data on teacher populations and class sizes could allow for more granular inference along this dimension. The evidence further points to a strong positive correlation between school type and student performance, with charter schools associated with a significant performance advantage on average and substantially higher performance on a percentage-passing basis. From the persepctive of delivering the most education value for the dollar, more attention should be given to how we might expand charter schools within the district or how elements of charter schools could be adapted to the benefit of district schools.\n",
    "* With respect to performance as students progress from the 9th to 12th grades within a given school, the data consistently show little variation both over time and across the district's schools, suggesting that one's academic performance as they enter the 9th grade is a good predictor of their performance as they exit the 12th grade, that is, the effects of those factors driving differences in performance are persistent. This finding also highlights the importance of early education before pupils arrive to the 9th grade.  \n",
    "* As a next step, I recommend analyzing performance data over time, toward: i) identifying shifting patterns if any, ii) sheddling light on the impact of prior efforts to boost students' performance district-wide, and iii) informing development of a 5-year plan the the of 100% passing rates on math and reading in all schools in the district within X years."
   ]
  },
  {
   "cell_type": "code",
   "execution_count": 1,
   "metadata": {
    "scrolled": true
   },
   "outputs": [
    {
     "data": {
      "text/html": [
       "<div>\n",
       "<style scoped>\n",
       "    .dataframe tbody tr th:only-of-type {\n",
       "        vertical-align: middle;\n",
       "    }\n",
       "\n",
       "    .dataframe tbody tr th {\n",
       "        vertical-align: top;\n",
       "    }\n",
       "\n",
       "    .dataframe thead th {\n",
       "        text-align: right;\n",
       "    }\n",
       "</style>\n",
       "<table border=\"1\" class=\"dataframe\">\n",
       "  <thead>\n",
       "    <tr style=\"text-align: right;\">\n",
       "      <th></th>\n",
       "      <th>Student ID</th>\n",
       "      <th>student_name</th>\n",
       "      <th>gender</th>\n",
       "      <th>grade</th>\n",
       "      <th>school_name</th>\n",
       "      <th>reading_score</th>\n",
       "      <th>math_score</th>\n",
       "      <th>School ID</th>\n",
       "      <th>type</th>\n",
       "      <th>size</th>\n",
       "      <th>budget</th>\n",
       "    </tr>\n",
       "  </thead>\n",
       "  <tbody>\n",
       "    <tr>\n",
       "      <th>0</th>\n",
       "      <td>0</td>\n",
       "      <td>Paul Bradley</td>\n",
       "      <td>M</td>\n",
       "      <td>9th</td>\n",
       "      <td>Huang High School</td>\n",
       "      <td>66</td>\n",
       "      <td>79</td>\n",
       "      <td>0</td>\n",
       "      <td>District</td>\n",
       "      <td>2917</td>\n",
       "      <td>1910635</td>\n",
       "    </tr>\n",
       "    <tr>\n",
       "      <th>1</th>\n",
       "      <td>1</td>\n",
       "      <td>Victor Smith</td>\n",
       "      <td>M</td>\n",
       "      <td>12th</td>\n",
       "      <td>Huang High School</td>\n",
       "      <td>94</td>\n",
       "      <td>61</td>\n",
       "      <td>0</td>\n",
       "      <td>District</td>\n",
       "      <td>2917</td>\n",
       "      <td>1910635</td>\n",
       "    </tr>\n",
       "    <tr>\n",
       "      <th>2</th>\n",
       "      <td>2</td>\n",
       "      <td>Kevin Rodriguez</td>\n",
       "      <td>M</td>\n",
       "      <td>12th</td>\n",
       "      <td>Huang High School</td>\n",
       "      <td>90</td>\n",
       "      <td>60</td>\n",
       "      <td>0</td>\n",
       "      <td>District</td>\n",
       "      <td>2917</td>\n",
       "      <td>1910635</td>\n",
       "    </tr>\n",
       "    <tr>\n",
       "      <th>3</th>\n",
       "      <td>3</td>\n",
       "      <td>Dr. Richard Scott</td>\n",
       "      <td>M</td>\n",
       "      <td>12th</td>\n",
       "      <td>Huang High School</td>\n",
       "      <td>67</td>\n",
       "      <td>58</td>\n",
       "      <td>0</td>\n",
       "      <td>District</td>\n",
       "      <td>2917</td>\n",
       "      <td>1910635</td>\n",
       "    </tr>\n",
       "    <tr>\n",
       "      <th>4</th>\n",
       "      <td>4</td>\n",
       "      <td>Bonnie Ray</td>\n",
       "      <td>F</td>\n",
       "      <td>9th</td>\n",
       "      <td>Huang High School</td>\n",
       "      <td>97</td>\n",
       "      <td>84</td>\n",
       "      <td>0</td>\n",
       "      <td>District</td>\n",
       "      <td>2917</td>\n",
       "      <td>1910635</td>\n",
       "    </tr>\n",
       "  </tbody>\n",
       "</table>\n",
       "</div>"
      ],
      "text/plain": [
       "   Student ID       student_name gender grade        school_name  \\\n",
       "0           0       Paul Bradley      M   9th  Huang High School   \n",
       "1           1       Victor Smith      M  12th  Huang High School   \n",
       "2           2    Kevin Rodriguez      M  12th  Huang High School   \n",
       "3           3  Dr. Richard Scott      M  12th  Huang High School   \n",
       "4           4         Bonnie Ray      F   9th  Huang High School   \n",
       "\n",
       "   reading_score  math_score  School ID      type  size   budget  \n",
       "0             66          79          0  District  2917  1910635  \n",
       "1             94          61          0  District  2917  1910635  \n",
       "2             90          60          0  District  2917  1910635  \n",
       "3             67          58          0  District  2917  1910635  \n",
       "4             97          84          0  District  2917  1910635  "
      ]
     },
     "execution_count": 1,
     "metadata": {},
     "output_type": "execute_result"
    }
   ],
   "source": [
    "# Dependencies and Setup\n",
    "import pandas as pd\n",
    "from pathlib import Path\n",
    "\n",
    "# File to Load\n",
    "school_data_to_load = Path(\"Resources/schools_complete.csv\")\n",
    "student_data_to_load = Path(\"Resources/students_complete.csv\")\n",
    "\n",
    "# Read School and Student Data File and store into Pandas DataFrames\n",
    "schoolDF = pd.read_csv(school_data_to_load)\n",
    "studentDF = pd.read_csv(student_data_to_load)\n",
    "\n",
    "# Combine the data into a single dataset\n",
    "combinedDF = pd.merge(studentDF, schoolDF, how=\"left\", on=\"school_name\")\n",
    "\n",
    "combinedDF.head()"
   ]
  },
  {
   "cell_type": "markdown",
   "metadata": {},
   "source": [
    "## District Summary"
   ]
  },
  {
   "cell_type": "code",
   "execution_count": 2,
   "metadata": {},
   "outputs": [
    {
     "data": {
      "text/plain": [
       "15"
      ]
     },
     "execution_count": 2,
     "metadata": {},
     "output_type": "execute_result"
    }
   ],
   "source": [
    "# Calculate the total number of unique schools in Combined DF\n",
    "schoolCount = len(combinedDF[\"school_name\"].unique())\n",
    "schoolCount\n"
   ]
  },
  {
   "cell_type": "code",
   "execution_count": 3,
   "metadata": {},
   "outputs": [
    {
     "data": {
      "text/plain": [
       "39170"
      ]
     },
     "execution_count": 3,
     "metadata": {},
     "output_type": "execute_result"
    }
   ],
   "source": [
    "# Calculate the total number of students in Combined DF\n",
    "studentCount = combinedDF[\"Student ID\"].count()\n",
    "studentCount"
   ]
  },
  {
   "cell_type": "code",
   "execution_count": 4,
   "metadata": {},
   "outputs": [
    {
     "data": {
      "text/plain": [
       "24649428"
      ]
     },
     "execution_count": 4,
     "metadata": {},
     "output_type": "execute_result"
    }
   ],
   "source": [
    "# Calculate the total district-wide budget -- sum school-level budgets in School DF\n",
    "totalBudget = schoolDF[\"budget\"].sum()\n",
    "totalBudget\n"
   ]
  },
  {
   "cell_type": "code",
   "execution_count": 5,
   "metadata": {},
   "outputs": [
    {
     "data": {
      "text/plain": [
       "78.98537145774827"
      ]
     },
     "execution_count": 5,
     "metadata": {},
     "output_type": "execute_result"
    }
   ],
   "source": [
    "# Calculate the average math score -- take average across all students in Combined DF\n",
    "aveMathScore = combinedDF[\"math_score\"].mean()\n",
    "aveMathScore\n"
   ]
  },
  {
   "cell_type": "code",
   "execution_count": 6,
   "metadata": {},
   "outputs": [
    {
     "data": {
      "text/plain": [
       "81.87784018381414"
      ]
     },
     "execution_count": 6,
     "metadata": {},
     "output_type": "execute_result"
    }
   ],
   "source": [
    "# Calculate the average reading score -- take average across all students in Combined DF\n",
    "aveReadingScore = combinedDF[\"reading_score\"].mean()\n",
    "aveReadingScore\n"
   ]
  },
  {
   "cell_type": "code",
   "execution_count": 7,
   "metadata": {},
   "outputs": [
    {
     "data": {
      "text/plain": [
       "74.9808526933878"
      ]
     },
     "execution_count": 7,
     "metadata": {},
     "output_type": "execute_result"
    }
   ],
   "source": [
    "# Calculate the percentage of students who passed math (math scores >= 70) in Combined DF\n",
    "passingMath = combinedDF[(combinedDF[\"math_score\"] >= 70)]\n",
    "numPassingMath = len(passingMath)\n",
    "# numPassingMath\n",
    "percentPassingMath = numPassingMath / float(studentCount) * 100\n",
    "percentPassingMath\n"
   ]
  },
  {
   "cell_type": "code",
   "execution_count": 8,
   "metadata": {},
   "outputs": [
    {
     "data": {
      "text/plain": [
       "85.80546336482001"
      ]
     },
     "execution_count": 8,
     "metadata": {},
     "output_type": "execute_result"
    }
   ],
   "source": [
    "# Calculate the percentage of students who passed reading (reading scores >= 70) in Combined DF\n",
    "passingReading = combinedDF[(combinedDF[\"reading_score\"] >= 70)]\n",
    "numPassingReading = len(passingReading)\n",
    "percentPassingReading = numPassingReading / float(studentCount) * 100\n",
    "percentPassingReading\n"
   ]
  },
  {
   "cell_type": "code",
   "execution_count": 9,
   "metadata": {},
   "outputs": [
    {
     "data": {
      "text/plain": [
       "65.17232575950983"
      ]
     },
     "execution_count": 9,
     "metadata": {},
     "output_type": "execute_result"
    }
   ],
   "source": [
    "# Calculate the percentage of students that passed math and reading in Combined DF\n",
    "passingMathAndReading = combinedDF[\n",
    "    (combinedDF[\"math_score\"] >= 70) & (combinedDF[\"reading_score\"] >= 70)\n",
    "]\n",
    "numPassingOverall = len(passingMathAndReading)\n",
    "percentPassingOverall = numPassingOverall /  float(studentCount) * 100\n",
    "percentPassingOverall\n"
   ]
  },
  {
   "cell_type": "code",
   "execution_count": 10,
   "metadata": {},
   "outputs": [
    {
     "ename": "NameError",
     "evalue": "name 'percentPassMath' is not defined",
     "output_type": "error",
     "traceback": [
      "\u001b[0;31m---------------------------------------------------------------------------\u001b[0m",
      "\u001b[0;31mNameError\u001b[0m                                 Traceback (most recent call last)",
      "Cell \u001b[0;32mIn[10], line 8\u001b[0m\n\u001b[1;32m      1\u001b[0m \u001b[38;5;66;03m# Create a high-level snapshot of the district's key metrics in a DataFrame - make a dictionary of lists\u001b[39;00m\n\u001b[1;32m      2\u001b[0m districtSummary \u001b[38;5;241m=\u001b[39m pd\u001b[38;5;241m.\u001b[39mDataFrame(\n\u001b[1;32m      3\u001b[0m     {\u001b[38;5;124m\"\u001b[39m\u001b[38;5;124mTotal Schools\u001b[39m\u001b[38;5;124m\"\u001b[39m: [schoolCount],\n\u001b[1;32m      4\u001b[0m      \u001b[38;5;124m\"\u001b[39m\u001b[38;5;124mTotal Students\u001b[39m\u001b[38;5;124m\"\u001b[39m: [studentCount],\n\u001b[1;32m      5\u001b[0m      \u001b[38;5;124m\"\u001b[39m\u001b[38;5;124mTotal Budget\u001b[39m\u001b[38;5;124m\"\u001b[39m: [totalBudget],\n\u001b[1;32m      6\u001b[0m      \u001b[38;5;124m\"\u001b[39m\u001b[38;5;124mAverage Math Score\u001b[39m\u001b[38;5;124m\"\u001b[39m: [aveMathScore],\n\u001b[1;32m      7\u001b[0m      \u001b[38;5;124m\"\u001b[39m\u001b[38;5;124mAverage Reading Score\u001b[39m\u001b[38;5;124m\"\u001b[39m: [aveReadingScore],\n\u001b[0;32m----> 8\u001b[0m      \u001b[38;5;124m\"\u001b[39m\u001b[38;5;124m%\u001b[39m\u001b[38;5;124m Passing Math\u001b[39m\u001b[38;5;124m\"\u001b[39m: [percentPassMath],\n\u001b[1;32m      9\u001b[0m      \u001b[38;5;124m\"\u001b[39m\u001b[38;5;124m%\u001b[39m\u001b[38;5;124m Passing Reading\u001b[39m\u001b[38;5;124m\"\u001b[39m: [percentPassReading],\n\u001b[1;32m     10\u001b[0m      \u001b[38;5;124m\"\u001b[39m\u001b[38;5;124m%\u001b[39m\u001b[38;5;124m Overall Passing\u001b[39m\u001b[38;5;124m\"\u001b[39m: [percentPassMathReading]\n\u001b[1;32m     11\u001b[0m     }   \n\u001b[1;32m     12\u001b[0m )\n\u001b[1;32m     14\u001b[0m \u001b[38;5;66;03m# Format the dataframe\u001b[39;00m\n\u001b[1;32m     15\u001b[0m districtSummary[\u001b[38;5;124m\"\u001b[39m\u001b[38;5;124mTotal Students\u001b[39m\u001b[38;5;124m\"\u001b[39m] \u001b[38;5;241m=\u001b[39m districtSummary[\u001b[38;5;124m\"\u001b[39m\u001b[38;5;124mTotal Students\u001b[39m\u001b[38;5;124m\"\u001b[39m]\u001b[38;5;241m.\u001b[39mmap(\u001b[38;5;124m\"\u001b[39m\u001b[38;5;132;01m{:,}\u001b[39;00m\u001b[38;5;124m\"\u001b[39m\u001b[38;5;241m.\u001b[39mformat)\n",
      "\u001b[0;31mNameError\u001b[0m: name 'percentPassMath' is not defined"
     ]
    }
   ],
   "source": [
    "# Create a high-level snapshot of the district's key metrics in a DataFrame - make a dictionary of lists\n",
    "districtSummary = pd.DataFrame(\n",
    "    {\"Total Schools\": [schoolCount],\n",
    "     \"Total Students\": [studentCount],\n",
    "     \"Total Budget\": [totalBudget],\n",
    "     \"Average Math Score\": [aveMathScore],\n",
    "     \"Average Reading Score\": [aveReadingScore],\n",
    "     \"% Passing Math\": [percentPassMath],\n",
    "     \"% Passing Reading\": [percentPassReading],\n",
    "     \"% Overall Passing\": [percentPassMathReading]\n",
    "    }   \n",
    ")\n",
    "\n",
    "# Format the dataframe\n",
    "districtSummary[\"Total Students\"] = districtSummary[\"Total Students\"].map(\"{:,}\".format)\n",
    "districtSummary[\"Total Budget\"] = districtSummary[\"Total Budget\"].map(\"${:,.2f}\".format)\n",
    "districtSummary[\"Average Math Score\"] = districtSummary[\"Average Math Score\"].map(\"{:,.2f}\".format)\n",
    "districtSummary[\"Average Reading Score\"] = districtSummary[\"Average Reading Score\"].map(\"{:,.2f}\".format)\n",
    "districtSummary[\"% Passing Math\"] = districtSummary[\"% Passing Math\"].map(\"{:,.2f}\".format)\n",
    "districtSummary[\"% Passing Reading\"] = districtSummary[\"% Passing Reading\"].map(\"{:,.2f}\".format)\n",
    "districtSummary[\"% Overall Passing\"] = districtSummary[\"% Overall Passing\"].map(\"{:,.2f}\".format)\n",
    "\n",
    "# Display the dataframe\n",
    "districtSummary\n"
   ]
  },
  {
   "cell_type": "markdown",
   "metadata": {},
   "source": [
    "## School Summary"
   ]
  },
  {
   "cell_type": "code",
   "execution_count": null,
   "metadata": {},
   "outputs": [],
   "source": [
    "# Look at School DF\n",
    "schoolDF"
   ]
  },
  {
   "cell_type": "code",
   "execution_count": null,
   "metadata": {},
   "outputs": [],
   "source": [
    "# Extract each school's type from School DF\n",
    "PerSchoolType = schoolDF.set_index(\"school_name\")[\"type\"]"
   ]
  },
  {
   "cell_type": "code",
   "execution_count": null,
   "metadata": {},
   "outputs": [],
   "source": [
    "# Extract each school's student count from School DF\n",
    "perSchoolNumStudents = combinedDF[\"school_name\"].value_counts()\n",
    "\n",
    "# Alternatively:\n",
    "# perSchoolNumStudents = schoolDF.set_index([\"school_name\"])[\"size\"]"
   ]
  },
  {
   "cell_type": "code",
   "execution_count": null,
   "metadata": {},
   "outputs": [],
   "source": []
  },
  {
   "cell_type": "code",
   "execution_count": null,
   "metadata": {},
   "outputs": [],
   "source": []
  },
  {
   "cell_type": "code",
   "execution_count": null,
   "metadata": {},
   "outputs": [],
   "source": []
  },
  {
   "cell_type": "code",
   "execution_count": null,
   "metadata": {},
   "outputs": [],
   "source": [
    "# Extract total budget for each school from School DF\n",
    "perSchoolBudgetDF = combinedDF.groupby(\"school_name\")[\"budget\"].mean()\n",
    "# Convert to series\n",
    "perSchoolBudget = perSchoolBudgetDF"
   ]
  },
  {
   "cell_type": "code",
   "execution_count": null,
   "metadata": {},
   "outputs": [],
   "source": [
    "# Calculate per capita spending for each school\n",
    "perSchoolBudgetPerCap = perSchoolBudget / perSchoolNumStudents\n",
    "\n",
    "# Alternatively, create a new column in School DF that holds per capital expenditures\n",
    "# schoolDF[\"per capita spending\"] = schoolDF[\"budget\"] / schoolDF[\"size\"]  \n",
    "# perSchoolBudgetPerCap = schoolDF.set_index([\"school_name\"])[\"per capita spending\"] "
   ]
  },
  {
   "cell_type": "code",
   "execution_count": null,
   "metadata": {},
   "outputs": [],
   "source": [
    "# Calculate average math test scores per school from Combined DF\n",
    "perSchoolAveMathScoreDF = combinedDF.groupby(\"school_name\")[\"math_score\"].mean()\n",
    "\n",
    "# Convert to series\n",
    "perSchoolAveMathScore = perSchoolAveMathScoreDF"
   ]
  },
  {
   "cell_type": "code",
   "execution_count": null,
   "metadata": {},
   "outputs": [],
   "source": [
    "# Calculate average reading test scores per school from Combined DF\n",
    "perSchoolAveReadingScoreDF = combinedDF.groupby(\"school_name\")[\"reading_score\"].mean()\n",
    "\n",
    "# Convert to series\n",
    "perSchoolAveReadingScore = perSchoolAveReadingScoreDF"
   ]
  },
  {
   "cell_type": "code",
   "execution_count": null,
   "metadata": {},
   "outputs": [],
   "source": [
    "# Calculate the number of students per school with math scores of 70 or higher from Combined DF\n",
    "perSchoolNumStudentsPassingMath = passingMath.groupby([\"school_name\"]).size()\n",
    "# perSchoolNumStudentsPassingMath"
   ]
  },
  {
   "cell_type": "code",
   "execution_count": null,
   "metadata": {},
   "outputs": [],
   "source": [
    "# Calculate the number of students per school with reading scores of 70 or higher from Combined DF\n",
    "perSchoolNumStudentsPassingReading = passingReading.groupby([\"school_name\"]).size()\n",
    "# perSchoolNumStudentsPassingReading"
   ]
  },
  {
   "cell_type": "code",
   "execution_count": null,
   "metadata": {},
   "outputs": [],
   "source": [
    "# Calculate the number of students per school that passed both math and reading with scores of 70 or higher\n",
    "perSchoolNumStudentsPassingMathAndReading = passingMathAndReading.groupby([\"school_name\"]).size()\n",
    "# perSchoolNumStudentsPassingMathAndReading"
   ]
  },
  {
   "cell_type": "code",
   "execution_count": null,
   "metadata": {},
   "outputs": [],
   "source": [
    "# Calculate the passing rates\n",
    "perSchoolPercentPassingMath = perSchoolNumStudentsPassingMath / perSchoolNumStudents * 100\n",
    "perSchoolPercentPassingReading = perSchoolNumStudentsPassingReading / perSchoolNumStudents * 100\n",
    "perSchoolPercentPassingOverall = perSchoolNumStudentsPassingMathAndReading / perSchoolNumStudents * 100"
   ]
  },
  {
   "cell_type": "code",
   "execution_count": null,
   "metadata": {},
   "outputs": [],
   "source": [
    "# Create a DataFrame called `per_school_summary` with columns for the calculations above.\n",
    "school_names = combinedDF[\"school_name\"].unique()\n",
    "perSchoolSummary = pd.DataFrame(\n",
    "    {\"School Type\": perSchoolType,\n",
    "     \"Total Students\": perSchoolNumStudents,\n",
    "     \"Total School Budget\": perSchoolBudget,\n",
    "     \"Per Student Budget\": perSchoolBudgetPerCap,\n",
    "     \"Average Math Score\": perSchoolAveMathScore,\n",
    "     \"Average Reading Score\": perSchoolAveReadingScore,\n",
    "     \"% Passing Math\": perSchoolPercentPassingMath,\n",
    "     \"% Passing Reading\": perSchoolPercentPassingReading,\n",
    "     \"% Overall Passing\": perSchoolPercentPassingOverall\n",
    "    }   \n",
    ")\n",
    "\n",
    "# Formatting\n",
    "perSchoolSummary.index.name = \"School District Summary, by School\"\n",
    "perSchoolSummary[\"Total School Budget\"] = perSchoolSummary[\"Total School Budget\"].map(\"${:,.2f}\".format)\n",
    "perSchoolSummary[\"Per Student Budget\"] = perSchoolSummary[\"Per Student Budget\"].map(\"${:,.2f}\".format)\n",
    "perSchoolSummary[\"Average Math Score\"] = perSchoolSummary[\"Average Math Score\"].map(\"{:,.2f}\".format)\n",
    "perSchoolSummary[\"Average Reading Score\"] = perSchoolSummary[\"Average Reading Score\"].map(\"{:,.2f}\".format)\n",
    "perSchoolSummary[\"% Passing Math\"] = perSchoolSummary[\"% Passing Math\"].map(\"{:,.2f}\".format)\n",
    "perSchoolSummary[\"% Passing Reading\"] = perSchoolSummary[\"% Passing Reading\"].map(\"{:,.2f}\".format)\n",
    "perSchoolSummary[\"% Overall Passing\"] = perSchoolSummary[\"% Overall Passing\"].map(\"{:,.2f}\".format)\n",
    "\n",
    "# Display the DataFrame\n",
    "perSchoolSummary\n"
   ]
  },
  {
   "cell_type": "markdown",
   "metadata": {},
   "source": [
    "## Highest-Performing Schools (by % Overall Passing)"
   ]
  },
  {
   "cell_type": "code",
   "execution_count": null,
   "metadata": {
    "scrolled": true
   },
   "outputs": [],
   "source": [
    "# Sort the schools by `% Overall Passing` in descending order and display the top 5 rows.\n",
    "topSchools = perSchoolSummary.sort_values([\"% Overall Passing\"], ascending=False)\n",
    "\n",
    "topSchools.index.name = \"Five Top-Performing Schools in District\"\n",
    "topSchools.head(5)"
   ]
  },
  {
   "cell_type": "markdown",
   "metadata": {},
   "source": [
    "## Bottom Performing Schools (By % Overall Passing)"
   ]
  },
  {
   "cell_type": "code",
   "execution_count": null,
   "metadata": {},
   "outputs": [],
   "source": [
    "# Sort the schools by `% Overall Passing` in ascending order and display the top 5 rows.\n",
    "bottomSchools = perSchoolSummary.sort_values([\"% Overall Passing\"], ascending=True)\n",
    "\n",
    "bottomSchools.index.name = \"Five Bottom-Performing Schools in District\"\n",
    "bottomSchools.head(5)\n"
   ]
  },
  {
   "cell_type": "markdown",
   "metadata": {},
   "source": [
    "## Math Scores by Grade"
   ]
  },
  {
   "cell_type": "code",
   "execution_count": null,
   "metadata": {},
   "outputs": [],
   "source": [
    "# Use the code provided to separate the data by grade\n",
    "ninthGradersDF = combinedDF[combinedDF[\"grade\"] == \"9th\"]\n",
    "tenthGradersDF = combinedDF[combinedDF[\"grade\"] == \"10th\"]\n",
    "eleventhGradersDF = combinedDF[combinedDF[\"grade\"] == \"11th\"]\n",
    "twelfthGradersDF = combinedDF[combinedDF[\"grade\"] == \"12th\"]"
   ]
  },
  {
   "cell_type": "code",
   "execution_count": null,
   "metadata": {},
   "outputs": [],
   "source": [
    "# Group by school_name and take the mean of the math_score column for each school\n",
    "ninthGradeMathScoresDF = ninthGradersDF.groupby([\"school_name\"])[\"math_score\"].mean()\n",
    "tenthGradeMathScoresDF = tenthGradersDF.groupby([\"school_name\"])[\"math_score\"].mean()\n",
    "eleventhGradeMathScoresDF = eleventhGradersDF.groupby([\"school_name\"])[\"math_score\"].mean()\n",
    "twelfthGradeMathScoresDF = twelfthGradersDF.groupby([\"school_name\"])[\"math_score\"].mean()\n",
    "\n",
    "# Combine each of the scores above into a single DataFrame\n",
    "mathScoresByGradeDF = pd.DataFrame({\n",
    "    \"9th\": ninthGradeMathScoresDF,\n",
    "    \"10th\": tenthGradeMathScoresDF,\n",
    "    \"11th\": eleventhGradeMathScoresDF,\n",
    "    \"12th\": twelfthGradeMathScoresDF\n",
    "    }\n",
    ")\n",
    "                                    \n",
    "# Minor data wrangling\n",
    "mathScoresByGradeDF.index.name = \"Math Scores by Grade, by School\"\n",
    "#mathScoresByGradeDF[\"9th\"] = mathScoresByGradeDF[\"9th\"].map(\"{:.2f}\".format)\n",
    "#mathScoresByGradeDF[\"10th\"] = mathScoresByGradeDF[\"10th\"].map(\"{:.2f}\".format)\n",
    "#mathScoresByGradeDF[\"11th\"] = mathScoresByGradeDF[\"11th\"].map(\"{:.2f}\".format)\n",
    "#mathScoresByGradeDF[\"12th\"] = mathScoresByGradeDF[\"12th\"].map(\"{:.2f}\".format)\n",
    "\n",
    "# Display the DataFrame\n",
    "mathScoresByGradeDF\n"
   ]
  },
  {
   "cell_type": "markdown",
   "metadata": {},
   "source": [
    "## Reading Score by Grade "
   ]
  },
  {
   "cell_type": "code",
   "execution_count": null,
   "metadata": {},
   "outputs": [],
   "source": [
    "# Group by school_name and take the mean of the the reading_score column for each school\n",
    "ninthGradeReadingScoresDF = ninthGradersDF.groupby([\"school_name\"])[\"reading_score\"].mean()\n",
    "tenthGradeReadingScoresDF = tenthGradersDF.groupby([\"school_name\"])[\"reading_score\"].mean()\n",
    "eleventhGradeReadingScoresDF = eleventhGradersDF.groupby([\"school_name\"])[\"reading_score\"].mean()\n",
    "twelfthGradeReadingScoresDF = twelfthGradersDF.groupby([\"school_name\"])[\"reading_score\"].mean()\n",
    "\n",
    "# Combine each of the scores above into a single DataFrame \n",
    "readingScoresByGradeDF = pd.DataFrame({\n",
    "    \"9th\": ninthGradeReadingScoresDF,\n",
    "    \"10th\": tenthGradeReadingScoresDF,\n",
    "    \"11th\": eleventhGradeReadingScoresDF,\n",
    "    \"12th\": twelfthGradeReadingScoresDF\n",
    "    }\n",
    ")\n",
    "\n",
    "# Minor data wrangling\n",
    "readingScoresByGradeDF.index.name = \"Reading Scores by Grade, by School\"\n",
    "readingScoresByGradeDF[\"9th\"] = readingScoresByGradeDF[\"9th\"].map(\"{:.2f}\".format)\n",
    "readingScoresByGradeDF[\"10th\"] = readingScoresByGradeDF[\"10th\"].map(\"{:.2f}\".format)\n",
    "readingScoresByGradeDF[\"11th\"] = readingScoresByGradeDF[\"11th\"].map(\"{:.2f}\".format)\n",
    "readingScoresByGradeDF[\"12th\"] = readingScoresByGradeDF[\"12th\"].map(\"{:.2f}\".format)\n",
    "\n",
    "# Display the DataFrame\n",
    "readingScoresByGradeDF\n"
   ]
  },
  {
   "cell_type": "markdown",
   "metadata": {},
   "source": [
    "## Scores by School Spending"
   ]
  },
  {
   "cell_type": "code",
   "execution_count": null,
   "metadata": {},
   "outputs": [],
   "source": [
    "# Establish the bins\n",
    "spendingBins = [0, 585, 630, 645, 680]\n",
    "labels = [\"<$585\", \"$585-630\", \"$630-645\", \"$645-680\"]"
   ]
  },
  {
   "cell_type": "code",
   "execution_count": null,
   "metadata": {},
   "outputs": [],
   "source": [
    "# Create a copy of the school summary for later aggregations\n",
    "schoolSpendingDF = perSchoolSummary.copy()"
   ]
  },
  {
   "cell_type": "code",
   "execution_count": null,
   "metadata": {},
   "outputs": [],
   "source": [
    "# Use pd.cut on the perSchoolBudgetPerCapita series from above to categorize per student spending based on the bins\n",
    "schoolSpendingDF[\"Expenditures Per Student\"] = pd.cut(perSchoolBudgetPerCap, spendingBins, labels=labels)\n",
    "\n",
    "# Convert numeric values that became strings in mapping above back to numbers\n",
    "schoolSpendingDF[\"Average Math Score\"] = schoolSpendingDF[\"Average Math Score\"].astype(float)\n",
    "schoolSpendingDF[\"Average Reading Score\"] = schoolSpendingDF[\"Average Reading Score\"].astype(float)\n",
    "schoolSpendingDF[\"% Passing Math\"] = schoolSpendingDF[\"% Passing Math\"].astype(float)\n",
    "schoolSpendingDF[\"% Passing Reading\"] = schoolSpendingDF[\"% Passing Reading\"].astype(float)\n",
    "schoolSpendingDF[\"% Overall Passing\"] = schoolSpendingDF[\"% Overall Passing\"].astype(float)\n",
    "\n",
    "schoolSpendingDF"
   ]
  },
  {
   "cell_type": "code",
   "execution_count": null,
   "metadata": {},
   "outputs": [],
   "source": [
    "# Calculate averages for the desired columns; first, run groupby on spending ranges\n",
    "spendingGroupedDF = schoolSpendingDF.groupby(\"Expenditures Per Student\", observed=True)\n",
    "spendingGroupedDF = spendingGroupedDF.mean(numeric_only=True)\n",
    "\n",
    "# Next; calculate each series\n",
    "spendingGroupedDF.index.name = \"Expenditures Per Student\"\n",
    "spendingTotalStudentsSeries = spendingGroupedDF[\"Total Students\"] \n",
    "spendingMathSeries = spendingGroupedDF[\"Average Math Score\"]\n",
    "spendingReadingSeries = spendingGroupedDF[\"Average Reading Score\"]\n",
    "spendingPassingMathSeries = spendingGroupedDF[\"% Passing Math\"]\n",
    "spendingPassingReadingSeries = spendingGroupedDF[\"% Passing Reading\"]\n",
    "spendingPassingOverallSeries = spendingGroupedDF[\"% Overall Passing\"]\n",
    "\n",
    "spendingGroupedDF"
   ]
  },
  {
   "cell_type": "code",
   "execution_count": null,
   "metadata": {},
   "outputs": [],
   "source": [
    "# Assemble into DataFrame that shows student performance by spending per student at the school level\n",
    "spendingSummaryDF = pd.DataFrame({\n",
    "    \"Average Math Score\": spendingMathSeries,   \n",
    "    \"Average Reading Score\": spendingReadingSeries,\n",
    "    \"% Passing Math\": spendingPassingMathSeries,\n",
    "    \"% Passing Reading\": spendingPassingReadingSeries,\n",
    "    \"% Overall Passing\": spendingPassingOverallSeries\n",
    "    }\n",
    ")\n",
    "\n",
    "# Minor data wrangling\n",
    "spendingSummaryDF[\"Average Math Score\"] = spendingSummaryDF[\"Average Math Score\"].map(\"{:.2f}\".format)\n",
    "spendingSummaryDF[\"Average Reading Score\"] = spendingSummaryDF[\"Average Reading Score\"].map(\"{:.2f}\".format)\n",
    "spendingSummaryDF[\"% Passing Math\"] = spendingSummaryDF[\"% Passing Math\"].map(\"{:.2f}\".format)\n",
    "spendingSummaryDF[\"% Passing Reading\"] = spendingSummaryDF[\"% Passing Reading\"].map(\"{:.2f}\".format)\n",
    "spendingSummaryDF[\"% Overall Passing\"] = spendingSummaryDF[\"% Overall Passing\"].map(\"{:.2f}\".format)\n",
    "\n",
    "# Display results\n",
    "spendingSummaryDF.index.name = \"Student Performance by School Experditures per Student\"\n",
    "spendingSummaryDF\n"
   ]
  },
  {
   "cell_type": "markdown",
   "metadata": {},
   "source": [
    "## Scores by School Size"
   ]
  },
  {
   "cell_type": "code",
   "execution_count": null,
   "metadata": {},
   "outputs": [],
   "source": [
    "# Establish the bins.\n",
    "sizeBins = [0, 1000, 2000, 5000]\n",
    "labels = [\"Small (<1000)\", \"Medium (1000-2000)\", \"Large (2000-5000)\"]"
   ]
  },
  {
   "cell_type": "code",
   "execution_count": null,
   "metadata": {},
   "outputs": [],
   "source": [
    "# Create a copy of the school summary for later aggregations\n",
    "schoolSizeDF = perSchoolSummary.copy()"
   ]
  },
  {
   "cell_type": "code",
   "execution_count": null,
   "metadata": {},
   "outputs": [],
   "source": [
    "# Use `pd.cut` on the perSchoolNumStudents series from earlier to categorize school size based on the bins.\n",
    "schoolSizeDF[\"School Size\"] = pd.cut(perSchoolNumStudents, sizeBins, labels=labels)\n",
    "\n",
    "# Convert numeric values that became strings in mapping above back to numbers\n",
    "schoolSizeDF[\"Average Math Score\"] = schoolSizeDF[\"Average Math Score\"].astype(float)\n",
    "schoolSizeDF[\"Average Reading Score\"] = schoolSizeDF[\"Average Reading Score\"].astype(float)\n",
    "schoolSizeDF[\"% Passing Math\"] = schoolSizeDF[\"% Passing Math\"].astype(float)\n",
    "schoolSizeDF[\"% Passing Reading\"] = schoolSizeDF[\"% Passing Reading\"].astype(float)\n",
    "schoolSizeDF[\"% Overall Passing\"] = schoolSizeDF[\"% Overall Passing\"].astype(float)\n",
    "\n",
    "# Convert School Size to a string\n",
    "schoolSizeDF[\"School Size\"] = schoolSizeDF[\"School Size\"].astype(str)\n",
    "\n",
    "schoolSizeDF.head()"
   ]
  },
  {
   "cell_type": "code",
   "execution_count": null,
   "metadata": {},
   "outputs": [],
   "source": [
    "# Calculate averages for the desired columns; this scenario shows a more compact way to structure groupbys relative to prior scenario\n",
    "\n",
    "# Calculate averages for the desired columns; first, run groupby on spending ranges\n",
    "sizeGroupedDF = schoolSizeDF.groupby(\"School Size\", observed=True)\n",
    "sizeGroupedDF = sizeGroupedDF.mean(numeric_only=True)\n",
    "\n",
    "# Next; calculate each series\n",
    "sizeMathSeries = sizeGroupedDF[\"Average Math Score\"]\n",
    "sizeReadingSeries = sizeGroupedDF[\"Average Reading Score\"]\n",
    "sizePassingMathSeries = sizeGroupedDF[\"% Passing Math\"]\n",
    "sizePassingReadingSeries = sizeGroupedDF[\"% Passing Reading\"]\n",
    "sizePassingOverallSeries = sizeGroupedDF[\"% Overall Passing\"]\n",
    "\n",
    "sizeGroupedDF\n",
    "\n",
    "# Alternative formulation - skip display, continue to next step\n",
    "#sizeMathSeries = schoolSizeDF.groupby([\"School Size\"])[\"Average Math Score\"].mean()\n",
    "#sizeReadingSeries = schoolSizeDF.groupby([\"School Size\"])[\"Average Reading Score\"].mean()\n",
    "#sizePassingMathSeries = schoolSizeDF.groupby([\"School Size\"])[\"% Passing Math\"].mean()\n",
    "#sizePassingReadingSeries = schoolSizeDF.groupby([\"School Size\"])[\"% Passing Reading\"].mean()\n",
    "#sizeOverallPassingSeries = schoolSizeDF.groupby([\"School Size\"])[\"% Overall Passing\"].mean()"
   ]
  },
  {
   "cell_type": "code",
   "execution_count": null,
   "metadata": {
    "scrolled": true
   },
   "outputs": [],
   "source": [
    "# Assemble into DataFrame that shows student performance by school size (small, medium, or large)\n",
    "sizeSummaryDF = pd.DataFrame({\n",
    "    \"Average Math Score\": sizeMathSeries,   \n",
    "    \"Average Reading Score\": sizeReadingSeries,\n",
    "    \"% Passing Math\": sizePassingMathSeries,\n",
    "    \"% Passing Reading\": sizePassingReadingSeries,\n",
    "    \"% Overall Passing\": sizeOverallPassingSeries\n",
    "    }\n",
    ")\n",
    "\n",
    "# Minor data wrangling\n",
    "sizeSummaryDF[\"Average Math Score\"] = sizeSummaryDF[\"Average Math Score\"].map(\"{:.2f}\".format)\n",
    "sizeSummaryDF[\"Average Reading Score\"] = sizeSummaryDF[\"Average Reading Score\"].map(\"{:.2f}\".format)\n",
    "sizeSummaryDF[\"% Passing Math\"] = sizeSummaryDF[\"% Passing Math\"].map(\"{:.2f}\".format)\n",
    "sizeSummaryDF[\"% Passing Reading\"] = sizeSummaryDF[\"% Passing Reading\"].map(\"{:.2f}\".format)\n",
    "sizeSummaryDF[\"% Overall Passing\"] = sizeSummaryDF[\"% Overall Passing\"].map(\"{:.2f}\".format)\n",
    "\n",
    "# Display results\n",
    "sizeSummaryDF.index.name = \"Student Performance by School Size\"\n",
    "sizeSummaryDF\n"
   ]
  },
  {
   "cell_type": "markdown",
   "metadata": {},
   "source": [
    "## Scores by School Type"
   ]
  },
  {
   "cell_type": "code",
   "execution_count": null,
   "metadata": {},
   "outputs": [],
   "source": [
    "# Group the perSchoolSummary DataFrame by \"School Type\" and average the results.\n",
    "\n",
    "# Create a copy of the school summary for later aggregations\n",
    "schoolTypeDF = perSchoolSummary.copy()\n",
    "\n",
    "# Convert numeric values that became strings in mapping above back to numbers\n",
    "schoolTypeDF[\"Average Math Score\"] = schoolTypeDF[\"Average Math Score\"].astype(float)\n",
    "schoolTypeDF[\"Average Reading Score\"] = schoolTypeDF[\"Average Reading Score\"].astype(float)\n",
    "schoolTypeDF[\"% Passing Math\"] = schoolTypeDF[\"% Passing Math\"].astype(float)\n",
    "schoolTypeDF[\"% Passing Reading\"] = schoolTypeDF[\"% Passing Reading\"].astype(float)\n",
    "schoolTypeDF[\"% Overall Passing\"] = schoolTypeDF[\"% Overall Passing\"].astype(float)\n",
    "\n",
    "# Convert School Size to a string\n",
    "schoolTypeDF[\"School Type\"] = schoolTypeDF[\"School Type\"].astype(str)\n",
    "\n",
    "# Calculate averages for the desired columns; first, run groupby on spending ranges\n",
    "typeGroupedDF = schoolTypeDF.groupby(\"School Type\", observed=True)\n",
    "typeGroupedDF = typeGroupedDF.mean(numeric_only=True)\n",
    "\n",
    "# Next; calculate each series\n",
    "typeMathSeries = typeGroupedDF[\"Average Math Score\"]\n",
    "typeReadingSeries = typeGroupedDF[\"Average Reading Score\"]\n",
    "typePassingMathSeries = typeGroupedDF[\"% Passing Math\"]\n",
    "typePassingReadingSeries = typeGroupedDF[\"% Passing Reading\"]\n",
    "typeOverallPassingSeries = typeGroupedDF[\"% Overall Passing\"]\n",
    "\n",
    "typeGroupedDF"
   ]
  },
  {
   "cell_type": "code",
   "execution_count": null,
   "metadata": {},
   "outputs": [],
   "source": [
    "# Assemble the new data by type into a DataFrame that shows student performance by school type (charter, district)\n",
    "typeSummaryDF = pd.DataFrame({\n",
    "    \"Average Math Score\": typeMathSeries,   \n",
    "    \"Average Reading Score\": typeReadingSeries,\n",
    "    \"% Passing Math\": typePassingMathSeries,\n",
    "    \"% Passing Reading\": typePassingReadingSeries,\n",
    "    \"% Overall Passing\": typeOverallPassingSeries\n",
    "    }\n",
    ")\n",
    "\n",
    "# Minor data wrangling\n",
    "typeSummaryDF[\"Average Math Score\"] = typeSummaryDF[\"Average Math Score\"].map(\"{:.2f}\".format)\n",
    "typeSummaryDF[\"Average Reading Score\"] = typeSummaryDF[\"Average Reading Score\"].map(\"{:.2f}\".format)\n",
    "typeSummaryDF[\"% Passing Math\"] = typeSummaryDF[\"% Passing Math\"].map(\"{:.2f}\".format)\n",
    "typeSummaryDF[\"% Passing Reading\"] = typeSummaryDF[\"% Passing Reading\"].map(\"{:.2f}\".format)\n",
    "typeSummaryDF[\"% Overall Passing\"] = typeSummaryDF[\"% Overall Passing\"].map(\"{:.2f}\".format)\n",
    "\n",
    "# Display results\n",
    "typeSummaryDF.index.name = \"Student Performance by School Type\"\n",
    "typeSummaryDF\n"
   ]
  },
  {
   "cell_type": "code",
   "execution_count": null,
   "metadata": {},
   "outputs": [],
   "source": []
  }
 ],
 "metadata": {
  "anaconda-cloud": {},
  "kernel_info": {
   "name": "python3"
  },
  "kernelspec": {
   "display_name": "Python 3 (ipykernel)",
   "language": "python",
   "name": "python3"
  },
  "language_info": {
   "codemirror_mode": {
    "name": "ipython",
    "version": 3
   },
   "file_extension": ".py",
   "mimetype": "text/x-python",
   "name": "python",
   "nbconvert_exporter": "python",
   "pygments_lexer": "ipython3",
   "version": "3.12.7"
  },
  "latex_envs": {
   "LaTeX_envs_menu_present": true,
   "autoclose": false,
   "autocomplete": true,
   "bibliofile": "biblio.bib",
   "cite_by": "apalike",
   "current_citInitial": 1,
   "eqLabelWithNumbers": true,
   "eqNumInitial": 1,
   "hotkeys": {
    "equation": "Ctrl-E",
    "itemize": "Ctrl-I"
   },
   "labels_anchors": false,
   "latex_user_defs": false,
   "report_style_numbering": false,
   "user_envs_cfg": false
  },
  "nteract": {
   "version": "0.8.4"
  },
  "vscode": {
   "interpreter": {
    "hash": "5384d77d82de63fd599f73e77f9ec786e7719288bf80a29ec0288c670ac3cf32"
   }
  }
 },
 "nbformat": 4,
 "nbformat_minor": 4
}
